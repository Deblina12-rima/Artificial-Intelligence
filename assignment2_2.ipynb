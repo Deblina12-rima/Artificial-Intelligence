list2=[(1,'Deblina',20),(2,'Padmanava',21),(3,'Subhangi',20)]
print("the original list is:"+str(list2))
cho=[lis[1] for lis in list2]
print("list with only nth tuple element(i.e names):"+str(cho))