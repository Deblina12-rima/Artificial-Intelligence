dic={1:'Deblina',2:'Sarkar',3:'Aarush'}
delete=[key for key in dic if key==2]
for key in delete:del dic[key]
print(dic)