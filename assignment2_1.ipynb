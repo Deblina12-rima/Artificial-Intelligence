list1=[1,2,3,4,5,6]
print("the original list is:"+ str(list1))
var1,var2,var3=[list1[i] for i in(1,3,5)]
print("the variables are:"+str(var1)+" "+str(var2)+" "+str(var3))